{
  "cells": [
    {
      "cell_type": "markdown",
      "metadata": {},
      "source": [
        "# Fiche jupyter : tutoriel débutant - python"
      ]
    },
    {
      "cell_type": "markdown",
      "metadata": {},
      "source": [
        "Ceci est une fiche d'aide pour découvrir l'informatique en utilisant le langage python, ce n'est pas réelement ce que je recommenderai pour débuter (comme langage ou méthode) mais peut sérvire de point d'entrée si nécessaire."
      ]
    },
    {
      "cell_type": "markdown",
      "metadata": {},
      "source": [
        "## Vocabulaire & Principes de base"
      ]
    },
    {
      "cell_type": "markdown",
      "metadata": {},
      "source": [
        "Utilisation :\n",
        "Vous pouvez exécuter les cellules en utilisant Shift + Entrer après les avoir séléctionnées.  \n",
        "Vous pouvez utiliser les boutons en haut du fichier pour effectuer d'autres actions (editer/ajouter des cellules, relancer le noyau si le programme plante ou est infini...)"
      ]
    },
    {
      "cell_type": "markdown",
      "metadata": {},
      "source": [
        "Définition : **syntaxe**\n",
        "La syntaxe est la façon d'écrire le code, elle dépend du langage dans lequel le code est écrit.\n",
        "\n",
        "\n",
        "\n",
        "(Avancé) Définition : **sémantique**\n",
        "La sémantique est l'ensemble des actions que font le code, indépendamment de sa syntaxe.\n",
        "\n",
        "\n",
        "Définition : **Pseudo code**\n",
        "Les algorithmes sont des morceaux de programmes qui peuvent êtres lus et exécutés.\n",
        "Pour les lire facilement, on utilise du pseudo-code.\n",
        "C'est un langage abstrait qui permet de lire du code sans connaitre de langage, ou sans se soucier de la syntaxe.\n",
        "Il est notamment utilisé pour apprendre des concepts, sur papier, sans coder et exécuter du code. "
      ]
    },
    {
      "cell_type": "markdown",
      "metadata": {},
      "source": [
        "## Exemples et extraits de code"
      ]
    },
    {
      "cell_type": "markdown",
      "metadata": {},
      "source": [
        "### Commentaires"
      ]
    },
    {
      "cell_type": "code",
      "execution_count": null,
      "metadata": {
        "trusted": true
      },
      "outputs": [],
      "source": [
        "# ceci est un commentaire, il commence par '#'\n",
        "# chaque ligne qui commence par '#' est ignorée dans le code\n",
        "# cela permet d'annoter du code sans perturber son fonctionnement\n",
        "print(\"Coucou\") # Un commentaire permet aussi d'ignorer une ligne de code partiellement, comme ici"
      ]
    },
    {
      "cell_type": "markdown",
      "metadata": {},
      "source": [
        "### Affichage et Console"
      ]
    },
    {
      "cell_type": "markdown",
      "metadata": {},
      "source": [
        "On peut afficher du texte ou une valeur dans la console comme suit :"
      ]
    },
    {
      "cell_type": "code",
      "execution_count": 17,
      "metadata": {},
      "outputs": [
        {
          "name": "stdout",
          "output_type": "stream",
          "text": [
            "Affichage dans la console\n"
          ]
        }
      ],
      "source": [
        "print(\"Affichage dans la console\")"
      ]
    },
    {
      "cell_type": "markdown",
      "metadata": {},
      "source": [
        "### Variables\n",
        "Les variables sont des noms donnés à des valeurs que l'on manipule dans les programmes.  \n",
        "On peut leur *assigner* des valeurs comme suit :  \n",
        "`<nom_de_variable> = <valeur>`"
      ]
    },
    {
      "cell_type": "code",
      "execution_count": 47,
      "metadata": {
        "trusted": true
      },
      "outputs": [],
      "source": [
        "a = 5\n",
        "b = 10.5\n",
        "c = 'c' # charactère seul\n",
        "d = \"chaine de charactère\"\n",
        "e = 0xf0f0f0 # avancé : hexadecimal"
      ]
    },
    {
      "cell_type": "markdown",
      "metadata": {},
      "source": [
        "On peut assigner des valeurs à des variables qui dépendent de valeurs d'autres variables :"
      ]
    },
    {
      "cell_type": "code",
      "execution_count": 50,
      "metadata": {},
      "outputs": [],
      "source": [
        "f = a + 2\n",
        "g = d + \", à laquelle on colle une autre chaine\"\n",
        "h = a / 2 \n",
        "i = a % 2 # modulo "
      ]
    },
    {
      "cell_type": "markdown",
      "metadata": {},
      "source": [
        "`%` : Le **modulo**  \n",
        "Ici, l'opération `a%b` représente l'opération mathématique appelée **modulo**, le **reste** de la division euclidienne de `a` (dividande) par `b` (diviseur).  \n",
        "\n",
        "Tous ces mots compliqués veulent simplement dire que lors d'une division de nombres entiers, comme en primaire, on a :  \n",
        "Le **quotient** de `5` divisé par `4` est `1`, et le **reste** de cette division vaut **`1`** (car `5 = 4 * 1 + 1`), et donc `5%4` vaut `1` (le reste de la division).  \n",
        "\n",
        "En particulier, cet opération est plus communément utilisé en informatique de deux façon :  \n",
        "- Si un nombre `x` est divisible par `y` alors `x%y` vaut `0`. en effet, on aurait alors `x= y * k + 0` avec un certains `k`.  \n",
        "\t(En particulier, on peut utiliser celà pour savoir si un nombrer `x` est pair (= divisible par `2`), en voyant si `x%2` vaut `0` (pair) ou `1` (impair).)  \n",
        "- On peut boucler lors d'une enumération de nombre en utilisant un modulo, comme avec l'exemple suivant :  \n",
        "  `0%5` vaut `0`  \n",
        "\t`1%5` vaut `1`  \n",
        "\t`2%5` vaut `2`  \n",
        "\t`3%5` vaut `3`  \n",
        "\t`4%5` vaut `4`  \n",
        "\t--on boucle ici :  \n",
        "\t`5%5` vaut `0`  \n",
        "\t`6%5` vaut `1`  \n",
        "\t`7%5` vaut `2`  \n",
        "\t...  "
      ]
    },
    {
      "cell_type": "markdown",
      "metadata": {},
      "source": [
        "On peut afficher des variables avec `print` :"
      ]
    },
    {
      "cell_type": "code",
      "execution_count": 52,
      "metadata": {},
      "outputs": [
        {
          "name": "stdout",
          "output_type": "stream",
          "text": [
            "5\n",
            "10.5 c chaine de charactère 15790320 7 chaine de charactère, à laquelle on colle une autre chaine 2.5\n",
            "1\n"
          ]
        }
      ],
      "source": [
        "print(a) # variable seule\n",
        "print(b, c, d, e, f, g, h) # plusieurs variables\n",
        "print(i) # résultat du modulo"
      ]
    },
    {
      "cell_type": "markdown",
      "metadata": {},
      "source": [
        "Notez que changer la valeur d'une variable ne change pas la valeur d'un autre variable, même si elle a été assignée avec une expression qui en dépend.  \n",
        "Exemple :"
      ]
    },
    {
      "cell_type": "code",
      "execution_count": 10,
      "metadata": {},
      "outputs": [
        {
          "name": "stdout",
          "output_type": "stream",
          "text": [
            "7\n"
          ]
        }
      ],
      "source": [
        "b = 5\n",
        "a = b + 2\n",
        "b = 4\n",
        "print(a) # a vaut 7 et non 6"
      ]
    },
    {
      "cell_type": "markdown",
      "metadata": {},
      "source": [
        "### Condition :\n",
        "Une condition est un type de variable. Elle définit une contraite, qui peut être réutilisée.  \n",
        "Une condition est vraie ou fausse (**True**/**False**)."
      ]
    },
    {
      "cell_type": "code",
      "execution_count": 55,
      "metadata": {
        "trusted": true
      },
      "outputs": [],
      "source": [
        "# exemples, loin d'être exhaustifs.\n",
        "condition = a < b \n",
        "condition1 = a <= b # a lire \"inferieur ou égal\"\n",
        "condition2 = True\n",
        "condition3 = False \n",
        "condition4 = a == b # est-ce que a est égale à b. ATTENTION : On met 2 signes égal pour différencier d'une affectation\n",
        "condition5 = a != b # est-ce que a est différent de b."
      ]
    },
    {
      "cell_type": "markdown",
      "metadata": {},
      "source": [
        "On peut faire différentes combinaisons avec des opérations logiques:  \n",
        "\n",
        "`and` : et logique  \n",
        "`or` : ou logique  \n",
        "`not` : non logique  \n",
        "\n",
        "Exemples :"
      ]
    },
    {
      "cell_type": "code",
      "execution_count": 56,
      "metadata": {},
      "outputs": [],
      "source": [
        "condition_exemple = True\n",
        "condition6 = False or condition_exemple # si l'un des deux est vrai, alors 6 est vrai\n",
        "condition7 = condition1 and condition2  # si l'un des deux est faux, alors 7 est faux\n",
        "condition8 = not condition_exemple # l'inverse de condition_exemple, donc 8 est faux\n",
        "condition9 = condition3 and not condition4\n",
        "#..."
      ]
    },
    {
      "cell_type": "markdown",
      "metadata": {},
      "source": [
        "### Test\n",
        "Un test sert d'embranchement dans le code.  \n",
        "Les conditions n'ont pas besoin d'être mis dans des variables pour être utilisées dans un test.  \n",
        "L'exécution des branches dépendant de la valeur de la condition :"
      ]
    },
    {
      "cell_type": "code",
      "execution_count": 4,
      "metadata": {
        "trusted": true
      },
      "outputs": [],
      "source": [
        "# changez ces valeurs pour observers les changements d'embranchement\n",
        "a = 0.5 \n",
        "b = 1"
      ]
    },
    {
      "cell_type": "code",
      "execution_count": 5,
      "metadata": {
        "trusted": true
      },
      "outputs": [
        {
          "name": "stdout",
          "output_type": "stream",
          "text": [
            "0.5\n"
          ]
        }
      ],
      "source": [
        "if a < b : print(a) # Si a est inferieur à b, afficher a (sinon, ne rien faire)"
      ]
    },
    {
      "cell_type": "code",
      "execution_count": null,
      "metadata": {
        "trusted": true
      },
      "outputs": [],
      "source": [
        "condition = False # changez la condition pour observer les changements d'embranchement "
      ]
    },
    {
      "cell_type": "markdown",
      "metadata": {},
      "source": [
        " - Si la condition est vraie, **a** est exécutée. \n",
        " - Sinon, **b** est exécutée"
      ]
    },
    {
      "cell_type": "code",
      "execution_count": null,
      "metadata": {
        "trusted": true
      },
      "outputs": [],
      "source": [
        "if condition :\n",
        "    # instruction a\n",
        "    print(\"a\")\n",
        "else :  \n",
        "    # instruction b\n",
        "    print(\"b\")"
      ]
    },
    {
      "cell_type": "markdown",
      "metadata": {},
      "source": [
        "### Succession de tests :\n",
        "On peut succeder plusieurs tests pour créer plusieurs embranchements. Ici :\n",
        "- si 1 est vraie, a est exécuté\n",
        "- **SINON** si 2 est vraie, b est exécuté\n",
        "- **SINON** = *si aucun de 1 et 2 est vrai*, c est exécuté"
      ]
    },
    {
      "cell_type": "code",
      "execution_count": null,
      "metadata": {
        "trusted": true
      },
      "outputs": [],
      "source": [
        "condition1 = True # changez la condition pour observer les changements d'embranchement \n",
        "condition2 = True # changez la condition pour observer les changements d'embranchement "
      ]
    },
    {
      "cell_type": "code",
      "execution_count": null,
      "metadata": {
        "trusted": true
      },
      "outputs": [],
      "source": [
        "if condition1 :\n",
        "\t# instruction a \n",
        "\tprint(\"a\")\n",
        "elif condition2 :\n",
        "\t# instuction b\n",
        "\tprint(\"b\")\n",
        "else :\n",
        "\t#instruction c\n",
        "\tprint(\"c\")"
      ]
    },
    {
      "cell_type": "markdown",
      "metadata": {},
      "source": [
        "Une condition est une variable. Sa valeur n'est pas changée si on ne lui a pas assigné une nouvelle valeur.  \n",
        "En particulier, considérez l'exemple suivant :"
      ]
    },
    {
      "cell_type": "code",
      "execution_count": 19,
      "metadata": {},
      "outputs": [
        {
          "name": "stdout",
          "output_type": "stream",
          "text": [
            "3 2\n"
          ]
        }
      ],
      "source": [
        "a = 1\n",
        "b = 2\n",
        "condition = a < b # 1 < 2 -> vrai\n",
        "a = 3 \n",
        "if condition : # la condition vaut toujours vrai, donc on passe le test \n",
        "\tprint(a,b) # a vaut 3 et b vaut 2, c'est donc affiché."
      ]
    },
    {
      "cell_type": "markdown",
      "metadata": {},
      "source": [
        "### Boucle (Tant que)\n",
        "Exécute le même code en boucle tant que la condition est vraie. \n",
        "> /!\\ ATTENTION : si la condition ne change jamais, la boucle est une boucle infini, et le programme plante (ou ne s'arrete jamais).  \n",
        "> Ce problème est un problème coeur de l'informatique théorique. "
      ]
    },
    {
      "cell_type": "code",
      "execution_count": null,
      "metadata": {
        "trusted": true
      },
      "outputs": [],
      "source": [
        "condition = True"
      ]
    },
    {
      "cell_type": "code",
      "execution_count": null,
      "metadata": {
        "trusted": true
      },
      "outputs": [],
      "source": [
        "while condition :\n",
        "  # instruction a\n",
        "  print(\"instruction de boucle\")\n",
        "  condition = False # !!!!!!!!"
      ]
    },
    {
      "cell_type": "markdown",
      "metadata": {},
      "source": [
        "### Ensemble\n",
        "Les ensembles sont des listes de valeurs"
      ]
    },
    {
      "cell_type": "code",
      "execution_count": 8,
      "metadata": {
        "trusted": true
      },
      "outputs": [],
      "source": [
        "ensemble = (1,2,3,4,5)"
      ]
    },
    {
      "cell_type": "markdown",
      "metadata": {},
      "source": [
        "### Boucle (Pour)\n",
        "Exécute le même code pour chaque valeur de la liste"
      ]
    },
    {
      "cell_type": "code",
      "execution_count": 9,
      "metadata": {
        "trusted": true
      },
      "outputs": [
        {
          "name": "stdout",
          "output_type": "stream",
          "text": [
            "1\n",
            "2\n",
            "3\n",
            "4\n",
            "5\n"
          ]
        }
      ],
      "source": [
        "for x in ensemble:\n",
        "\tprint(x)"
      ]
    },
    {
      "cell_type": "markdown",
      "metadata": {},
      "source": [
        "### Fonctions\n",
        "Algorithme ou morceau de code que l'on réutilise.  \n",
        "**Point vocabulaire:**\n",
        "- une fonction a une **déclaration** (l'endroit où on la nomme) et une **définition** (où son code se trouve)\n",
        "- elle a (optionnellement) des **paramètres**, des variables qu'elle utilisera dans son code\n",
        "- elle peut etre appelée (utilisée autre part dans le code)\n",
        "- elle peut (optionellement) **retourner** (ou **rendre**) une ou des valeur(s), qui pourra être utilisée quand elle sera appelée"
      ]
    },
    {
      "cell_type": "code",
      "execution_count": 22,
      "metadata": {
        "trusted": true
      },
      "outputs": [],
      "source": [
        "def ma_super_fonction(parametre1, parametre2):\n",
        "  #instruction a\n",
        "  #...\n",
        "  resultat1 = \"r1\"\n",
        "  resultat2 = \"r2\"\n",
        "  return resultat1, resultat2 #... valeurs de retour"
      ]
    },
    {
      "cell_type": "markdown",
      "metadata": {},
      "source": [
        "On peut ensuite appeler notre fonction :"
      ]
    },
    {
      "cell_type": "code",
      "execution_count": 27,
      "metadata": {
        "trusted": true
      },
      "outputs": [
        {
          "name": "stdout",
          "output_type": "stream",
          "text": [
            "r1 r2\n",
            "('r1', 'r2')\n"
          ]
        }
      ],
      "source": [
        "x1, x2 = ma_super_fonction(a,b) #... on assigne à x1, x2, les valeurs de retour de la fonction quand elle a prit comme paramètres a et b\n",
        "print(x1, x2)\n",
        "\n",
        "print(ma_super_fonction(a,b)) # des fonctions peuvent prendre des valeurs de retour de fonctions comme paramètres"
      ]
    },
    {
      "cell_type": "code",
      "execution_count": 24,
      "metadata": {
        "trusted": true
      },
      "outputs": [
        {
          "name": "stdout",
          "output_type": "stream",
          "text": [
            "Coucou\n"
          ]
        }
      ],
      "source": [
        "# certaines fonctions existent par défaut pour faire des chose utiles :\n",
        "print(\"Coucou\") # affiche \"Coucou\" dans la console."
      ]
    },
    {
      "cell_type": "markdown",
      "metadata": {},
      "source": [
        "## En pratique\n",
        "Cette partie servira à assimiler les concepts, et comprendre comment ils sont utilisés.  \n",
        "Le code sera simplement à compléter, veillez à ne remplacer que les `...`  \n",
        "Aucune réponse est donnée, les cellules peuvent êtres ré-exécutées ou complétées à souhait.  \n",
        "Les questions marquées (*) sont plus difficiles que la moyenne."
      ]
    },
    {
      "cell_type": "markdown",
      "metadata": {},
      "source": [
        "### 1 - Variables"
      ]
    },
    {
      "cell_type": "markdown",
      "metadata": {},
      "source": [
        "#### A : Compléter le code suivant pour avoir l'affichage dans la console suivant : \"5.5\" "
      ]
    },
    {
      "cell_type": "code",
      "execution_count": 28,
      "metadata": {},
      "outputs": [
        {
          "name": "stdout",
          "output_type": "stream",
          "text": [
            "Ellipsis\n"
          ]
        }
      ],
      "source": [
        "a = ... #completer ici\n",
        "print(a)"
      ]
    },
    {
      "cell_type": "markdown",
      "metadata": {},
      "source": [
        "#### B : Compléter le code suivant pour avoir l'affichage dans la console : \"Coucou\""
      ]
    },
    {
      "cell_type": "code",
      "execution_count": null,
      "metadata": {},
      "outputs": [],
      "source": [
        "a = ... #completer ici\n",
        "print(a)"
      ]
    },
    {
      "cell_type": "markdown",
      "metadata": {},
      "source": [
        "#### C : Compléter le code suivant pour avoir afficher dans la console la valeur de la somme de a et b.  \n",
        "Cet affichage doit changer si a et b son changés, sans changer c. (lors d'une réexécution de la cellule)"
      ]
    },
    {
      "cell_type": "code",
      "execution_count": 29,
      "metadata": {},
      "outputs": [
        {
          "name": "stdout",
          "output_type": "stream",
          "text": [
            "Ellipsis\n"
          ]
        }
      ],
      "source": [
        "a = 5\n",
        "b = 6\n",
        "c = ... #completer ici\n",
        "print(c)"
      ]
    },
    {
      "cell_type": "markdown",
      "metadata": {},
      "source": [
        "#### D : Quel est la valeur de c à la fin de l'exécution de la cellule suivante ?"
      ]
    },
    {
      "cell_type": "code",
      "execution_count": null,
      "metadata": {},
      "outputs": [],
      "source": [
        "a = 1\n",
        "b = 1\n",
        "c = a + b\n",
        "a = 3\n",
        "b = 3\n",
        "# valeur de c ?"
      ]
    },
    {
      "cell_type": "markdown",
      "metadata": {},
      "source": [
        "### 2 - Tests et conditions"
      ]
    },
    {
      "cell_type": "markdown",
      "metadata": {},
      "source": [
        "#### A - Compléter le code suivant pour afficher \"Je suis passé par la branche b\""
      ]
    },
    {
      "cell_type": "code",
      "execution_count": 30,
      "metadata": {},
      "outputs": [
        {
          "name": "stdout",
          "output_type": "stream",
          "text": [
            "Je suis passé par la branche a\n"
          ]
        }
      ],
      "source": [
        "condition = ... #completer ici\n",
        "\n",
        "if condition :\n",
        "\tprint(\"Je suis passé par la branche a\")\n",
        "else :\n",
        "\tprint(\"Je suis passé par la branche b\")"
      ]
    },
    {
      "cell_type": "markdown",
      "metadata": {},
      "source": [
        "### B - Compléter le code suivant pour afficher \"a\""
      ]
    },
    {
      "cell_type": "code",
      "execution_count": null,
      "metadata": {},
      "outputs": [],
      "source": [
        "a = ... #completer ici\n",
        "b = ... #completer ici\n",
        "if a < b :\n",
        "\tprint(\"a\")\n",
        "else :\n",
        "\tprint(\"b\")"
      ]
    },
    {
      "cell_type": "markdown",
      "metadata": {},
      "source": [
        "### C - Compléter le code suivant pour afficher \"c\""
      ]
    },
    {
      "cell_type": "code",
      "execution_count": 36,
      "metadata": {},
      "outputs": [
        {
          "name": "stdout",
          "output_type": "stream",
          "text": [
            "a\n"
          ]
        }
      ],
      "source": [
        "if ... : #completer ici\n",
        "\tprint(\"a\")\n",
        "elif ... : #completer ici\n",
        "\tprint(\"b\")\n",
        "else :\n",
        "\tprint(\"c\")"
      ]
    },
    {
      "cell_type": "markdown",
      "metadata": {},
      "source": [
        "#### D - Quelle est la valeur de d à la fin du code ?"
      ]
    },
    {
      "cell_type": "code",
      "execution_count": 35,
      "metadata": {},
      "outputs": [],
      "source": [
        "a = 1\n",
        "b = 2\n",
        "condition = a < b\n",
        "a = 3\n",
        "if condition :\n",
        "\td = 1\n",
        "else :\n",
        "\td = 2\n",
        "# valeur de d ?"
      ]
    },
    {
      "cell_type": "markdown",
      "metadata": {},
      "source": [
        "### Boucles \n",
        "Veillez à comprendre entièrement les variables et conditions avant de passer aux exercices suivants."
      ]
    },
    {
      "cell_type": "markdown",
      "metadata": {},
      "source": [
        "### A - Quelle est la valeur de a à la fin du code suivant ?"
      ]
    },
    {
      "cell_type": "code",
      "execution_count": null,
      "metadata": {},
      "outputs": [],
      "source": [
        "a = 0\n",
        "while a < 10 :\n",
        "\ta = a + 1"
      ]
    },
    {
      "cell_type": "markdown",
      "metadata": {},
      "source": [
        "### B - Compléter le code suivant pour afficher \"5\""
      ]
    },
    {
      "cell_type": "code",
      "execution_count": null,
      "metadata": {},
      "outputs": [],
      "source": [
        "a = 0\n",
        "while a < ... : #completer ici\n",
        "\ta = a + 1\n",
        "print(a)"
      ]
    },
    {
      "cell_type": "markdown",
      "metadata": {},
      "source": [
        "### C - Compléter le code suivant pour afficher \"4\""
      ]
    },
    {
      "cell_type": "code",
      "execution_count": null,
      "metadata": {},
      "outputs": [],
      "source": [
        "a = 0\n",
        "b = 1\n",
        "while a < ... : #completer ici\n",
        "\ta = a + 1\n",
        "\tb = b * 2\n",
        "print(b)"
      ]
    },
    {
      "cell_type": "markdown",
      "metadata": {},
      "source": [
        "#### D - (*) Quelle est la valeur de x à la fin du code suivant ?\n",
        "Cette question est la première des difficiles. Un conseil est de suivre le déroulement de l'algorithme sur papier (ou autres notes), pas à pas.  \n",
        "Le procédé sera d'abord long, mais une fois la logique comprise, il le sera de moins en moins et viendra plus naturellement."
      ]
    },
    {
      "cell_type": "code",
      "execution_count": 40,
      "metadata": {},
      "outputs": [],
      "source": [
        "c = True\n",
        "x = 0\n",
        "i = 0\n",
        "\n",
        "while c :\n",
        "\tif x < 5 :\n",
        "\t\tx = x + 2\n",
        "\telif i > 10 :\n",
        "\t\tx = x * 2\n",
        "\t\tc = False \n",
        "\ti = i + 1"
      ]
    },
    {
      "cell_type": "markdown",
      "metadata": {},
      "source": [
        "#### E - (*) Quelle est la valeur de x à la fin du code suivant ?"
      ]
    },
    {
      "cell_type": "code",
      "execution_count": null,
      "metadata": {},
      "outputs": [],
      "source": [
        "c = True\n",
        "x = 1\n",
        "i = 0\n",
        "\n",
        "while c :\n",
        "\tif x % 2 == 0 : # rappel : si x est divisible par 2 (= si x est pair)\n",
        "\t\tx = x + 3\n",
        "\telse :\n",
        "\t\tx = x + 1\n",
        "\ti = i + 1\n",
        "\tc = i < 5\n",
        "# valeur de x ?"
      ]
    },
    {
      "attachments": {},
      "cell_type": "markdown",
      "metadata": {},
      "source": [
        "#### F - Coder une fonction prenant en paramètre un nombre réel et renvoyant son carré "
      ]
    },
    {
      "cell_type": "code",
      "execution_count": null,
      "metadata": {},
      "outputs": [],
      "source": [
        "def square(n):\n",
        "\t..."
      ]
    },
    {
      "attachments": {},
      "cell_type": "markdown",
      "metadata": {},
      "source": [
        "#### G - En utilisant la fonction ci-dessus, implémenter une fonction permettant d'afficher tous les carrés d'entiers inférieur à un paramètre (n)"
      ]
    },
    {
      "cell_type": "code",
      "execution_count": null,
      "metadata": {},
      "outputs": [],
      "source": [
        "def donne_mes_carres(n):\n",
        "\t..."
      ]
    }
  ],
  "metadata": {
    "kernelspec": {
      "display_name": "Python 3.8.0 32-bit",
      "language": "python",
      "name": "python3"
    },
    "language_info": {
      "codemirror_mode": {
        "name": "ipython",
        "version": 3
      },
      "file_extension": ".py",
      "mimetype": "text/x-python",
      "name": "python",
      "nbconvert_exporter": "python",
      "pygments_lexer": "ipython3",
      "version": "3.8.0 (tags/v3.8.0:fa919fd, Oct 14 2019, 19:21:23) [MSC v.1916 32 bit (Intel)]"
    },
    "vscode": {
      "interpreter": {
        "hash": "d9a65b9148bc23b93fb63acd58d27d6fdc0978cb92c5ff72c2f06cc896be4876"
      }
    }
  },
  "nbformat": 4,
  "nbformat_minor": 4
}
